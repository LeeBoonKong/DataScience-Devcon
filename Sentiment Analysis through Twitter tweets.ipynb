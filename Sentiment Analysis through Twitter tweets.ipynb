{
 "cells": [
  {
   "cell_type": "markdown",
   "metadata": {},
   "source": [
    "# Sentiment Analysis"
   ]
  },
  {
   "cell_type": "code",
   "execution_count": 12,
   "metadata": {},
   "outputs": [],
   "source": [
    "from textblob import TextBlob\n",
    "import tweepy\n",
    "import pandas as pd"
   ]
  },
  {
   "cell_type": "code",
   "execution_count": 13,
   "metadata": {},
   "outputs": [],
   "source": [
    "#Set tokens\n",
    "consumer_token = '72oUnEFpPxFes6HvblZ6rSmjX'\n",
    "consumer_secret = 'Q5pFf0U6X0kAUxEHdmwcVphOgYnWJdDO1aRhum6rTZWkrNrnz7'\n",
    "\n",
    "access_token = '2972604175-H1V7hlf2KcM9Rz8vS0xFxVmKIfJiexw0zmVk9zU'\n",
    "access_secret = '5vofPl9tyKFRLHV5sDKYlaTh58yCnJpnxjtap46IQBWp4'"
   ]
  },
  {
   "cell_type": "code",
   "execution_count": 14,
   "metadata": {},
   "outputs": [],
   "source": [
    "auth = tweepy.OAuthHandler(consumer_token, consumer_secret)\n",
    "auth.set_access_token(access_token, access_secret)\n",
    "\n",
    "api = tweepy.API(auth)"
   ]
  },
  {
   "cell_type": "code",
   "execution_count": 22,
   "metadata": {},
   "outputs": [
    {
     "name": "stdout",
     "output_type": "stream",
     "text": [
      "Number of tweets extracted: 10.\n",
      "\n"
     ]
    }
   ],
   "source": [
    "public_tweets = api.search('Najib')\n",
    "print(\"Number of tweets extracted: {}.\\n\".format(len(public_tweets)))"
   ]
  },
  {
   "cell_type": "code",
   "execution_count": 23,
   "metadata": {},
   "outputs": [
    {
     "name": "stdout",
     "output_type": "stream",
     "text": [
      "BN yang satu.. Bersama Najib! @Zulfarudianey @ianchennell @racong208 @roshidah_pdg @aad_sallh @fzlii_dhn… https://t.co/PnqPlJe2Xn\n",
      "Sentiment(polarity=0.0, subjectivity=0.0)\n",
      "\n",
      "\n",
      "BN yang satu.. Bersama Najib! @Malacinta01 @MyStingray1 @Umikalthum5 @UdinDins1 @Mellow3182002 @MieaMoh @KYasothane… https://t.co/juCS5WJRBc\n",
      "Sentiment(polarity=0.0, subjectivity=0.0)\n",
      "\n",
      "\n",
      "@_naimzamri Haah, najib since 1986&amp;  zahid hamidi since 1995.\n",
      "Sentiment(polarity=0.0, subjectivity=0.0)\n",
      "\n",
      "\n",
      "BN yang satu.. Bersama Najib! @WardahAsh @ashantibarison1 @SufiFadzil @hanna54762905 @morgantheo1056… https://t.co/Aqb9agnTkd\n",
      "Sentiment(polarity=0.0, subjectivity=0.0)\n",
      "\n",
      "\n",
      "RT @Schwarzenmann: Tadi petang di Pokok Ceri \n",
      "\n",
      "Dato' (B): Najib cuma meneruskan doktrin Dr.M, PM selama 22 tahun. \n",
      "\n",
      "Me: Dr.M dah pencen 15…\n",
      "Sentiment(polarity=0.0, subjectivity=0.0)\n",
      "\n",
      "\n",
      "BN yang satu.. Bersama Najib! @NurulAmi829 @Land3695 @lynnhaiza @nrlhdyhhhhh @Ak48476750 @julyzahieja @movistarV3… https://t.co/lfV0ATs237\n",
      "Sentiment(polarity=0.0, subjectivity=0.0)\n",
      "\n",
      "\n",
      "BN yang satu.. Bersama Najib! @muhamadrazif16 @blqs03 @2LYRkSqw5Qthy3Z @bevprice543 @esyasyakilla96… https://t.co/nsye6LYbvN\n",
      "Sentiment(polarity=0.0, subjectivity=0.0)\n",
      "\n",
      "\n",
      "BN yang satu.. Bersama Najib! @fav_choclate @_fathinnnnn @usetheway @NrNtasyaa @sxfeadlxna_ @mohamadbidinmu1… https://t.co/uk8IdJlYID\n",
      "Sentiment(polarity=0.0, subjectivity=0.0)\n",
      "\n",
      "\n",
      "RT @HajiMat5: Masih memegang jawatan KP Jasa dan MT UMNO dgn berani menentang Najib - mesti ada sesuatu yg menyedarkan beliau. https://t.co…\n",
      "Sentiment(polarity=0.0, subjectivity=0.0)\n",
      "\n",
      "\n",
      "RT @98FMNatal: ATENÇÃO! Ontem, depois de ver um pedido de fã pra gente tocar uma música do grupo EXO, nós lançamos um desafio pra eles e el…\n",
      "Sentiment(polarity=0.0, subjectivity=0.0)\n",
      "\n",
      "\n"
     ]
    }
   ],
   "source": [
    "for tweet in public_tweets:\n",
    "    print(tweet.text)\n",
    "    analysis = TextBlob(tweet.text)\n",
    "    print(analysis.sentiment)\n",
    "    print('\\n')"
   ]
  },
  {
   "cell_type": "code",
   "execution_count": null,
   "metadata": {},
   "outputs": [],
   "source": []
  }
 ],
 "metadata": {
  "kernelspec": {
   "display_name": "Python 3",
   "language": "python",
   "name": "python3"
  },
  "language_info": {
   "codemirror_mode": {
    "name": "ipython",
    "version": 3
   },
   "file_extension": ".py",
   "mimetype": "text/x-python",
   "name": "python",
   "nbconvert_exporter": "python",
   "pygments_lexer": "ipython3",
   "version": "3.6.4"
  }
 },
 "nbformat": 4,
 "nbformat_minor": 2
}
