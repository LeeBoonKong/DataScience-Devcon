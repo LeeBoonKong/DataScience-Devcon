{
 "cells": [
  {
   "cell_type": "markdown",
   "metadata": {},
   "source": [
    "# First of all, Get your Data\n",
    "## Identify the Type of Problem\n",
    "### - Predict a value? (The price, how many, how much)\n",
    "### - Yes or No? (The product is good or bad, cancer or no cancer, Dog or Cat)\n",
    "### - Predict a class? (Grade A, Grade B, Grade C, Grade D items)"
   ]
  },
  {
   "cell_type": "code",
   "execution_count": 1,
   "metadata": {},
   "outputs": [
    {
     "name": "stdout",
     "output_type": "stream",
     "text": [
      "<class 'pandas.core.frame.DataFrame'>\n",
      "RangeIndex: 43789 entries, 0 to 43788\n",
      "Data columns (total 18 columns):\n",
      "Lemon?                               43789 non-null int64\n",
      "Vehicle Year                         43789 non-null int64\n",
      "Vehicle Age                          43789 non-null int64\n",
      "Transmission                         43783 non-null object\n",
      "WheelType                            41904 non-null object\n",
      "VehOdo                               43789 non-null int64\n",
      "Size                                 43784 non-null object\n",
      "MMRAcquisitionAuctionAveragePrice    43775 non-null float64\n",
      "MMRAcquisitionAuctionCleanPrice      43775 non-null float64\n",
      "MMRAcquisitionRetailAveragePrice     43775 non-null float64\n",
      "MMRAcquisitonRetailCleanPrice        43775 non-null float64\n",
      "MMRCurrentAuctionAveragePrice        43598 non-null float64\n",
      "MMRCurrentAuctionCleanPrice          43598 non-null float64\n",
      "MMRCurrentRetailAveragePrice         43598 non-null float64\n",
      "MMRCurrentRetailCleanPrice           43598 non-null float64\n",
      "VehBCost                             43789 non-null float64\n",
      "IsOnlineSale                         43789 non-null int64\n",
      "WarrantyCost                         43789 non-null int64\n",
      "dtypes: float64(9), int64(6), object(3)\n",
      "memory usage: 6.0+ MB\n"
     ]
    }
   ],
   "source": [
    "%matplotlib inline\n",
    "import pandas as pd\n",
    "\n",
    "df = pd.read_csv(\"simplified_lemoncars_dataset.csv\")\n",
    "df.info()"
   ]
  },
  {
   "cell_type": "code",
   "execution_count": 2,
   "metadata": {},
   "outputs": [
    {
     "data": {
      "text/plain": [
       "<matplotlib.axes._subplots.AxesSubplot at 0x21af9089630>"
      ]
     },
     "execution_count": 2,
     "metadata": {},
     "output_type": "execute_result"
    },
    {
     "data": {
      "image/png": "[encoded data removed]",
      "text/plain": [
       "<Figure size 432x288 with 1 Axes>"
      ]
     },
     "metadata": {},
     "output_type": "display_data"
    }
   ],
   "source": [
    "df.groupby(\"Vehicle Year\")['Lemon?'].mean().plot(kind='bar')"
   ]
  },
  {
   "cell_type": "markdown",
   "metadata": {},
   "source": [
    "# Next Step, Data Cleaning and Preprocessing"
   ]
  },
  {
   "cell_type": "code",
   "execution_count": 3,
   "metadata": {},
   "outputs": [
    {
     "name": "stdout",
     "output_type": "stream",
     "text": [
      "<class 'pandas.core.frame.DataFrame'>\n",
      "RangeIndex: 43789 entries, 0 to 43788\n",
      "Data columns (total 18 columns):\n",
      "Lemon?                               43789 non-null int64\n",
      "Vehicle Year                         43789 non-null int64\n",
      "Vehicle Age                          43789 non-null int64\n",
      "Transmission                         43783 non-null object\n",
      "WheelType                            41904 non-null object\n",
      "VehOdo                               43789 non-null int64\n",
      "Size                                 43784 non-null object\n",
      "MMRAcquisitionAuctionAveragePrice    43775 non-null float64\n",
      "MMRAcquisitionAuctionCleanPrice      43775 non-null float64\n",
      "MMRAcquisitionRetailAveragePrice     43775 non-null float64\n",
      "MMRAcquisitonRetailCleanPrice        43775 non-null float64\n",
      "MMRCurrentAuctionAveragePrice        43598 non-null float64\n",
      "MMRCurrentAuctionCleanPrice          43598 non-null float64\n",
      "MMRCurrentRetailAveragePrice         43598 non-null float64\n",
      "MMRCurrentRetailCleanPrice           43598 non-null float64\n",
      "VehBCost                             43789 non-null float64\n",
      "IsOnlineSale                         43789 non-null int64\n",
      "WarrantyCost                         43789 non-null int64\n",
      "dtypes: float64(9), int64(6), object(3)\n",
      "memory usage: 6.0+ MB\n"
     ]
    }
   ],
   "source": [
    "df.info()"
   ]
  },
  {
   "cell_type": "markdown",
   "metadata": {},
   "source": [
    "# in total, wee need to have 43789 entries, the columns that have less than 43789 have missing values"
   ]
  },
  {
   "cell_type": "code",
   "execution_count": 4,
   "metadata": {},
   "outputs": [
    {
     "data": {
      "text/plain": [
       "Manual        1\n",
       "MANUAL     1578\n",
       "AUTO      42204\n",
       "dtype: int64"
      ]
     },
     "execution_count": 4,
     "metadata": {},
     "output_type": "execute_result"
    }
   ],
   "source": [
    "pd.value_counts(df['Transmission'].values, sort=False)"
   ]
  },
  {
   "cell_type": "code",
   "execution_count": 5,
   "metadata": {},
   "outputs": [],
   "source": [
    "df = df.replace('Manual', 'MANUAL')"
   ]
  },
  {
   "cell_type": "code",
   "execution_count": 6,
   "metadata": {},
   "outputs": [
    {
     "data": {
      "text/plain": [
       "MANUAL     1579\n",
       "AUTO      42204\n",
       "dtype: int64"
      ]
     },
     "execution_count": 6,
     "metadata": {},
     "output_type": "execute_result"
    }
   ],
   "source": [
    "pd.value_counts(df['Transmission'].values, sort=False)"
   ]
  },
  {
   "cell_type": "code",
   "execution_count": 7,
   "metadata": {},
   "outputs": [
    {
     "data": {
      "text/plain": [
       "Covers     19874\n",
       "Alloy      21595\n",
       "Special      435\n",
       "dtype: int64"
      ]
     },
     "execution_count": 7,
     "metadata": {},
     "output_type": "execute_result"
    }
   ],
   "source": [
    "pd.value_counts(df['WheelType'].values, sort=False)"
   ]
  },
  {
   "cell_type": "code",
   "execution_count": 8,
   "metadata": {},
   "outputs": [
    {
     "data": {
      "text/plain": [
       "MEDIUM SUV      4808\n",
       "LARGE           5255\n",
       "SPORTS           473\n",
       "VAN             3529\n",
       "LARGE TRUCK     1919\n",
       "SMALL TRUCK      523\n",
       "COMPACT         4321\n",
       "CROSSOVER       1040\n",
       "SPECIALTY       1118\n",
       "MEDIUM         18552\n",
       "LARGE SUV        860\n",
       "SMALL SUV       1386\n",
       "dtype: int64"
      ]
     },
     "execution_count": 8,
     "metadata": {},
     "output_type": "execute_result"
    }
   ],
   "source": [
    "pd.value_counts(df['Size'].values, sort=False)"
   ]
  },
  {
   "cell_type": "code",
   "execution_count": 9,
   "metadata": {},
   "outputs": [
    {
     "name": "stdout",
     "output_type": "stream",
     "text": [
      "<class 'pandas.core.frame.DataFrame'>\n",
      "RangeIndex: 43789 entries, 0 to 43788\n",
      "Data columns (total 18 columns):\n",
      "Lemon?                               43789 non-null int64\n",
      "Vehicle Year                         43789 non-null int64\n",
      "Vehicle Age                          43789 non-null int64\n",
      "Transmission                         43789 non-null object\n",
      "WheelType                            43789 non-null object\n",
      "VehOdo                               43789 non-null int64\n",
      "Size                                 43789 non-null object\n",
      "MMRAcquisitionAuctionAveragePrice    43775 non-null float64\n",
      "MMRAcquisitionAuctionCleanPrice      43775 non-null float64\n",
      "MMRAcquisitionRetailAveragePrice     43775 non-null float64\n",
      "MMRAcquisitonRetailCleanPrice        43775 non-null float64\n",
      "MMRCurrentAuctionAveragePrice        43598 non-null float64\n",
      "MMRCurrentAuctionCleanPrice          43598 non-null float64\n",
      "MMRCurrentRetailAveragePrice         43598 non-null float64\n",
      "MMRCurrentRetailCleanPrice           43598 non-null float64\n",
      "VehBCost                             43789 non-null float64\n",
      "IsOnlineSale                         43789 non-null int64\n",
      "WarrantyCost                         43789 non-null int64\n",
      "dtypes: float64(9), int64(6), object(3)\n",
      "memory usage: 6.0+ MB\n"
     ]
    }
   ],
   "source": [
    "values = {'Transmission' : 'AUTO', 'WheelType' : 'Alloy', 'Size' : 'Medium'}\n",
    "df = df.fillna(value=values)\n",
    "df.info()"
   ]
  },
  {
   "cell_type": "code",
   "execution_count": 10,
   "metadata": {},
   "outputs": [],
   "source": [
    "df = df.fillna(df.mean())"
   ]
  },
  {
   "cell_type": "code",
   "execution_count": 11,
   "metadata": {},
   "outputs": [
    {
     "name": "stdout",
     "output_type": "stream",
     "text": [
      "<class 'pandas.core.frame.DataFrame'>\n",
      "RangeIndex: 43789 entries, 0 to 43788\n",
      "Data columns (total 18 columns):\n",
      "Lemon?                               43789 non-null int64\n",
      "Vehicle Year                         43789 non-null int64\n",
      "Vehicle Age                          43789 non-null int64\n",
      "Transmission                         43789 non-null object\n",
      "WheelType                            43789 non-null object\n",
      "VehOdo                               43789 non-null int64\n",
      "Size                                 43789 non-null object\n",
      "MMRAcquisitionAuctionAveragePrice    43789 non-null float64\n",
      "MMRAcquisitionAuctionCleanPrice      43789 non-null float64\n",
      "MMRAcquisitionRetailAveragePrice     43789 non-null float64\n",
      "MMRAcquisitonRetailCleanPrice        43789 non-null float64\n",
      "MMRCurrentAuctionAveragePrice        43789 non-null float64\n",
      "MMRCurrentAuctionCleanPrice          43789 non-null float64\n",
      "MMRCurrentRetailAveragePrice         43789 non-null float64\n",
      "MMRCurrentRetailCleanPrice           43789 non-null float64\n",
      "VehBCost                             43789 non-null float64\n",
      "IsOnlineSale                         43789 non-null int64\n",
      "WarrantyCost                         43789 non-null int64\n",
      "dtypes: float64(9), int64(6), object(3)\n",
      "memory usage: 6.0+ MB\n"
     ]
    }
   ],
   "source": [
    "df.info()"
   ]
  },
  {
   "cell_type": "markdown",
   "metadata": {},
   "source": [
    "## Split X and y"
   ]
  },
  {
   "cell_type": "code",
   "execution_count": 12,
   "metadata": {},
   "outputs": [],
   "source": [
    "prediction = ['Lemon?']\n",
    "predictor = list(df.drop(prediction, axis=1))\n",
    "\n",
    "x = df[predictor]\n",
    "y = df[prediction]"
   ]
  },
  {
   "cell_type": "code",
   "execution_count": 13,
   "metadata": {},
   "outputs": [],
   "source": [
    "x = pd.get_dummies(x, prefix=['Transmission', 'WheelType', 'Size'])"
   ]
  },
  {
   "cell_type": "code",
   "execution_count": 14,
   "metadata": {},
   "outputs": [
    {
     "name": "stdout",
     "output_type": "stream",
     "text": [
      "<class 'pandas.core.frame.DataFrame'>\n",
      "RangeIndex: 43789 entries, 0 to 43788\n",
      "Data columns (total 32 columns):\n",
      "Vehicle Year                         43789 non-null int64\n",
      "Vehicle Age                          43789 non-null int64\n",
      "VehOdo                               43789 non-null int64\n",
      "MMRAcquisitionAuctionAveragePrice    43789 non-null float64\n",
      "MMRAcquisitionAuctionCleanPrice      43789 non-null float64\n",
      "MMRAcquisitionRetailAveragePrice     43789 non-null float64\n",
      "MMRAcquisitonRetailCleanPrice        43789 non-null float64\n",
      "MMRCurrentAuctionAveragePrice        43789 non-null float64\n",
      "MMRCurrentAuctionCleanPrice          43789 non-null float64\n",
      "MMRCurrentRetailAveragePrice         43789 non-null float64\n",
      "MMRCurrentRetailCleanPrice           43789 non-null float64\n",
      "VehBCost                             43789 non-null float64\n",
      "IsOnlineSale                         43789 non-null int64\n",
      "WarrantyCost                         43789 non-null int64\n",
      "Transmission_AUTO                    43789 non-null uint8\n",
      "Transmission_MANUAL                  43789 non-null uint8\n",
      "WheelType_Alloy                      43789 non-null uint8\n",
      "WheelType_Covers                     43789 non-null uint8\n",
      "WheelType_Special                    43789 non-null uint8\n",
      "Size_COMPACT                         43789 non-null uint8\n",
      "Size_CROSSOVER                       43789 non-null uint8\n",
      "Size_LARGE                           43789 non-null uint8\n",
      "Size_LARGE SUV                       43789 non-null uint8\n",
      "Size_LARGE TRUCK                     43789 non-null uint8\n",
      "Size_MEDIUM                          43789 non-null uint8\n",
      "Size_MEDIUM SUV                      43789 non-null uint8\n",
      "Size_Medium                          43789 non-null uint8\n",
      "Size_SMALL SUV                       43789 non-null uint8\n",
      "Size_SMALL TRUCK                     43789 non-null uint8\n",
      "Size_SPECIALTY                       43789 non-null uint8\n",
      "Size_SPORTS                          43789 non-null uint8\n",
      "Size_VAN                             43789 non-null uint8\n",
      "dtypes: float64(9), int64(5), uint8(18)\n",
      "memory usage: 5.4 MB\n"
     ]
    }
   ],
   "source": [
    "x.info()"
   ]
  },
  {
   "cell_type": "markdown",
   "metadata": {},
   "source": [
    "## Split Data for Cross Validation"
   ]
  },
  {
   "cell_type": "code",
   "execution_count": 16,
   "metadata": {},
   "outputs": [],
   "source": [
    "from sklearn.model_selection import train_test_split\n",
    "\n",
    "x_train, x_test, y_train, y_test = train_test_split(x, y, test_size = 0.2)"
   ]
  },
  {
   "cell_type": "code",
   "execution_count": null,
   "metadata": {},
   "outputs": [],
   "source": []
  }
 ],
 "metadata": {
  "kernelspec": {
   "display_name": "Python 3",
   "language": "python",
   "name": "python3"
  },
  "language_info": {
   "codemirror_mode": {
    "name": "ipython",
    "version": 3
   },
   "file_extension": ".py",
   "mimetype": "text/x-python",
   "name": "python",
   "nbconvert_exporter": "python",
   "pygments_lexer": "ipython3",
   "version": "3.6.4"
  }
 },
 "nbformat": 4,
 "nbformat_minor": 2
}
