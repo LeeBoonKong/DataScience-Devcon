{
 "cells": [
  {
   "cell_type": "markdown",
   "metadata": {},
   "source": [
    "# What is Data Science?"
   ]
  },
  {
   "cell_type": "markdown",
   "metadata": {},
   "source": [
    "<img src=\"What is Data Science.png\">"
   ]
  },
  {
   "cell_type": "markdown",
   "metadata": {},
   "source": [
    "### Artificial Intelligence:  \n",
    "The Study of making computers an intelligent entity  \n",
    "Methods: Mini-Max algorithm, Brute Force, lots of if-else....  \n",
    "\n",
    "### Machine Learning:  \n",
    "One of the subset of Artificial Intelligence, the aim is to teach machine to learn from data without explicitly programming it.  \n",
    "Methods: Linear Regression, Support Vector Machines, K-Means Clustering, Naive-Bayes, Random Forest, Gradient Boosting, Neural Networks...\n",
    "\n",
    "### Deep Learning:  \n",
    "A subset of Machine Learning which utilizes Neural Networks.  \n",
    "Methods: Feed Forward, Back-Propagation, Long-Short Term Memory(LSTM), Generative Adversarial Networks(GAN), Convolutional Neural Network(CNN)...\n",
    "\n",
    "### Big Data:  \n",
    "Concerned more with management of Data.  \n",
    "Velocity, Variety, Volume.  \n",
    "Utilize big data framework like Spark and Hadoop(Basically pandas, but allows storage on clusters of storage, which is scalable)\n",
    "<img src=\"Pandas.jpg\" height=300 width=300>\n",
    "\n",
    "### Data Science:  \n",
    "<b>Data Collection</b> collect all required data for your problem  \n",
    "<b>Data Analysis</b> analyzes data and discover relationships between data.  \n",
    "<b>Data Labeling</b> utilizes other knowledge and label the datas(Mostly done and decided by peoples who have relavant knowledge, like medical, biology, economics, or use clustering algorithems).  \n",
    "<b>Data Cleaning/Pre-processing</b> Clear out noise, missing values and outliers, scale data.\n",
    "Train data and create prediction models"
   ]
  },
  {
   "cell_type": "markdown",
   "metadata": {},
   "source": [
    "# The Data Science Pipeline"
   ]
  },
  {
   "cell_type": "markdown",
   "metadata": {},
   "source": [
    "<h3>\n",
    "- Data Collection  \n",
    "- Data Discovery  \n",
    "- Data Cleaning and Pre-Processing  \n",
    "- Generate Prediction Model  \n",
    "- Test Prediction Model  \n",
    "</h3>"
   ]
  },
  {
   "cell_type": "markdown",
   "metadata": {},
   "source": [
    "# Before We Start...\n",
    "\n",
    "# Get Familiar with your Workspace(Jupyter Notebook)"
   ]
  }
 ],
 "metadata": {
  "kernelspec": {
   "display_name": "Python 3",
   "language": "python",
   "name": "python3"
  },
  "language_info": {
   "codemirror_mode": {
    "name": "ipython",
    "version": 3
   },
   "file_extension": ".py",
   "mimetype": "text/x-python",
   "name": "python",
   "nbconvert_exporter": "python",
   "pygments_lexer": "ipython3",
   "version": "3.6.4"
  }
 },
 "nbformat": 4,
 "nbformat_minor": 2
}
